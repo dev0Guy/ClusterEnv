{
 "cells": [
  {
   "cell_type": "code",
   "execution_count": 4,
   "id": "1f26e819-3440-4875-aa12-95a6ee30ec61",
   "metadata": {},
   "outputs": [],
   "source": [
    "from IPython.display import display, clear_output\n",
    "import plotly.graph_objects as go\n",
    "import numpy as np"
   ]
  },
  {
   "cell_type": "code",
   "execution_count": 8,
   "id": "171ae9bd-6d95-4f26-b62e-9c07f09674d9",
   "metadata": {},
   "outputs": [],
   "source": [
    "data = np.random.randint(0, 150, size=(5, 5))"
   ]
  },
  {
   "cell_type": "code",
   "execution_count": 1,
   "id": "1133db4c-8927-4cb9-96e2-1fc5e9b9edec",
   "metadata": {},
   "outputs": [
    {
     "name": "stderr",
     "output_type": "stream",
     "text": [
      "/var/folders/b5/hwzjvd3s3t5cj85ybrswc01c0000gn/T/ipykernel_5319/240440966.py:2: UserWarning: \n",
      "The dash_core_components package is deprecated. Please replace\n",
      "`import dash_core_components as dcc` with `from dash import dcc`\n",
      "  import dash_core_components as dcc\n",
      "/var/folders/b5/hwzjvd3s3t5cj85ybrswc01c0000gn/T/ipykernel_5319/240440966.py:3: UserWarning: \n",
      "The dash_html_components package is deprecated. Please replace\n",
      "`import dash_html_components as html` with `from dash import html`\n",
      "  import dash_html_components as html\n"
     ]
    },
    {
     "data": {
      "text/html": [
       "\n",
       "        <iframe\n",
       "            width=\"100%\"\n",
       "            height=\"650\"\n",
       "            src=\"http://127.0.0.1:8050/\"\n",
       "            frameborder=\"0\"\n",
       "            allowfullscreen\n",
       "            \n",
       "        ></iframe>\n",
       "        "
      ],
      "text/plain": [
       "<IPython.lib.display.IFrame at 0x107795050>"
      ]
     },
     "metadata": {},
     "output_type": "display_data"
    }
   ],
   "source": [
    "import dash\n",
    "import dash_core_components as dcc\n",
    "import dash_html_components as html\n",
    "from dash.dependencies import Input, Output\n",
    "import numpy as np\n",
    "import plotly.graph_objs as go\n",
    "\n",
    "# Create the Dash app\n",
    "app = dash.Dash(__name__)\n",
    "\n",
    "# Define the layout\n",
    "app.layout = html.Div([\n",
    "    html.H1(\"Random NumPy Heatmap\"),\n",
    "    \n",
    "    # Button to generate new random heatmap\n",
    "    html.Button(\"Generate Random Heatmap\", id=\"generate-button\", n_clicks=0),\n",
    "    \n",
    "    # Div to display the heatmap\n",
    "    dcc.Graph(id=\"heatmap-graph\")\n",
    "])\n",
    "\n",
    "# Callback to generate and display the heatmap\n",
    "@app.callback(\n",
    "    Output(\"heatmap-graph\", \"figure\"),\n",
    "    Input(\"generate-button\", \"n_clicks\")\n",
    ")\n",
    "def generate_heatmap(n_clicks):\n",
    "    # Generate a random 5x5 NumPy array\n",
    "    random_matrix = np.random.randint(0, 100, size=(5, 5))\n",
    "    \n",
    "    # Create a heatmap figure\n",
    "    heatmap = go.Figure(data=go.Heatmap(\n",
    "        z=random_matrix,\n",
    "        colorscale=\"Viridis\",\n",
    "        zmin=0,\n",
    "        zmax=100\n",
    "    ))\n",
    "    \n",
    "    heatmap.update_layout(\n",
    "        title=\"Random NumPy Heatmap\",\n",
    "        xaxis_title=\"X\",\n",
    "        yaxis_title=\"Y\",\n",
    "        xaxis_showgrid=False,\n",
    "        yaxis_showgrid=False\n",
    "    )\n",
    "    \n",
    "    return heatmap\n",
    "\n",
    "if __name__ == \"__main__\":\n",
    "    app.run_server(debug=True)\n"
   ]
  }
 ],
 "metadata": {
  "kernelspec": {
   "display_name": "Python 3 (ipykernel)",
   "language": "python",
   "name": "python3"
  },
  "language_info": {
   "codemirror_mode": {
    "name": "ipython",
    "version": 3
   },
   "file_extension": ".py",
   "mimetype": "text/x-python",
   "name": "python",
   "nbconvert_exporter": "python",
   "pygments_lexer": "ipython3",
   "version": "3.11.4"
  }
 },
 "nbformat": 4,
 "nbformat_minor": 5
}
